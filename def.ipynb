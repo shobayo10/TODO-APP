{
 "cells": [
  {
   "cell_type": "code",
   "execution_count": 33,
   "metadata": {},
   "outputs": [
    {
     "name": "stdout",
     "output_type": "stream",
     "text": [
      "\n",
      " Learnig  about fuctions and parameters in chapter 8.\n"
     ]
    }
   ],
   "source": [
    "def display_message(topic):\n",
    "    \"\"\" Display topics learnt in chapter 8\"\"\"\n",
    "    \n",
    "    print(f\"\\n Learnig  about {topic} in chapter 8.\")\n",
    "\n",
    "display_message('fuctions and parameters')"
   ]
  },
  {
   "cell_type": "code",
   "execution_count": 34,
   "metadata": {},
   "outputs": [
    {
     "name": "stdout",
     "output_type": "stream",
     "text": [
      "\n",
      " One of my favrite book is Purple Hibiscus.\n"
     ]
    }
   ],
   "source": [
    "def favorite_book(title):\n",
    "    \n",
    "    \"\"\"Display my favorite book \"\"\"\n",
    "    \n",
    "    print(f\"\\n One of my favrite book is {title}.\")\n",
    "    \n",
    "favorite_book('Purple Hibiscus')"
   ]
  }
 ],
 "metadata": {
  "kernelspec": {
   "display_name": "Python 3",
   "language": "python",
   "name": "python3"
  },
  "language_info": {
   "codemirror_mode": {
    "name": "ipython",
    "version": 3
   },
   "file_extension": ".py",
   "mimetype": "text/x-python",
   "name": "python",
   "nbconvert_exporter": "python",
   "pygments_lexer": "ipython3",
   "version": "3.12.0"
  }
 },
 "nbformat": 4,
 "nbformat_minor": 2
}
