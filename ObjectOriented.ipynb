{
 "cells": [
  {
   "cell_type": "code",
   "execution_count": 33,
   "metadata": {},
   "outputs": [
    {
     "name": "stdout",
     "output_type": "stream",
     "text": [
      "The restaurant Alaba is now open! \n",
      "\n"
     ]
    }
   ],
   "source": [
    "class Restaurant():\n",
    "    \"\"\"A simple restaurant note\"\"\"\n",
    "    def __init__(info, restuarant_name, restuarant_cuisine): \n",
    "        \"\"\"Initialize restuarant_name and restuarant_cuisine attributes.\"\"\"\n",
    "        info.restuarant_name = restuarant_name\n",
    "        info.restuarant_cuisine = restuarant_cuisine\n",
    "        \n",
    "    def describe_restuarant(info):\n",
    "        \"\"\"Simulate restuarant is open\"\"\"\n",
    "     #   info.restuarant\n",
    "        print(f\"\\n {info.title()} is now open.\")\n",
    "       \n",
    "\n",
    "food = Restaurant( 'Oluso and Co','Japanese')\n",
    "food = Restaurant('Alaba', 'Buffet') \n",
    "food.describe_restuarant\n",
    "\n",
    "print(f\"The restaurant {food.restuarant_name} is now open! \\n\")\n"
   ]
  }
 ],
 "metadata": {
  "kernelspec": {
   "display_name": "Python 3",
   "language": "python",
   "name": "python3"
  },
  "language_info": {
   "codemirror_mode": {
    "name": "ipython",
    "version": 3
   },
   "file_extension": ".py",
   "mimetype": "text/x-python",
   "name": "python",
   "nbconvert_exporter": "python",
   "pygments_lexer": "ipython3",
   "version": "3.12.0"
  }
 },
 "nbformat": 4,
 "nbformat_minor": 2
}
