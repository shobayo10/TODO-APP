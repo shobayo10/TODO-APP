{
 "cells": [
  {
   "cell_type": "code",
   "execution_count": 1,
   "metadata": {},
   "outputs": [
    {
     "name": "stdout",
     "output_type": "stream",
     "text": [
      " I Love To Visit The City Jerusalem,'In' Palestine\n",
      "\n",
      " I Love To Visit The City Paris,'In' France\n",
      "\n"
     ]
    }
   ],
   "source": [
    "def city_country(city, country):\n",
    "    \"\"\" Return city and country\"\"\"\n",
    "    return (f\" I love to visit the city {city},'in' {country}\\n\").title() \n",
    "print(city_country('jerusalem', 'Palestine'))\n",
    "print(city_country('paris', 'france'))\n",
    "    "
   ]
  },
  {
   "cell_type": "markdown",
   "metadata": {},
   "source": []
  }
 ],
 "metadata": {
  "kernelspec": {
   "display_name": "Python 3",
   "language": "python",
   "name": "python3"
  },
  "language_info": {
   "codemirror_mode": {
    "name": "ipython",
    "version": 3
   },
   "file_extension": ".py",
   "mimetype": "text/x-python",
   "name": "python",
   "nbconvert_exporter": "python",
   "pygments_lexer": "ipython3",
   "version": "3.12.0"
  }
 },
 "nbformat": 4,
 "nbformat_minor": 2
}
