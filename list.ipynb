{
 "cells": [
  {
   "cell_type": "code",
   "execution_count": null,
   "metadata": {},
   "outputs": [],
   "source": [
    "def show_magicians(magicians): \n",
    "    \n",
    "    \"\"\"Print the name of each magician\"\"\"\n",
    "    for magician in magicians:\n",
    "        message = f\"\\n Hello, {magician}.\"\n",
    "        print(message)\n",
    "        \n",
    "magic = ['Excellent', 'Adeolu', 'Owolabi']\n",
    "make_great = []\n",
    "show_magicians(magic)\n",
    "\n",
    "\n",
    "\n",
    "    \n",
    "        \n",
    "        "
   ]
  },
  {
   "cell_type": "code",
   "execution_count": null,
   "metadata": {},
   "outputs": [],
   "source": []
  },
  {
   "cell_type": "code",
   "execution_count": null,
   "metadata": {},
   "outputs": [],
   "source": [
    "def make_great():\n",
    "    \n",
    "    \"\"\" modifying a list \"\"\"\n",
    "    "
   ]
  }
 ],
 "metadata": {
  "kernelspec": {
   "display_name": "Python 3",
   "language": "python",
   "name": "python3"
  },
  "language_info": {
   "codemirror_mode": {
    "name": "ipython",
    "version": 3
   },
   "file_extension": ".py",
   "mimetype": "text/x-python",
   "name": "python",
   "nbconvert_exporter": "python",
   "pygments_lexer": "ipython3",
   "version": "3.12.0"
  }
 },
 "nbformat": 4,
 "nbformat_minor": 2
}
