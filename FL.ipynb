{
 "cells": [
  {
   "cell_type": "code",
   "execution_count": null,
   "metadata": {},
   "outputs": [],
   "source": []
  },
  {
   "cell_type": "markdown",
   "metadata": {},
   "source": [
    "Make a list of people who should take the favorite languages poll. Include\n",
    "some names that are already in the dictionary and some that are not.\n",
    "\n",
    " Loop through the list of people who should take the poll. If they have\n",
    "already taken the poll, print a message thanking them for responding.\n",
    "If they have not yet taken the poll, print a message inviting them to take\n",
    "the poll."
   ]
  },
  {
   "cell_type": "code",
   "execution_count": null,
   "metadata": {},
   "outputs": [],
   "source": [
    "# List of people who should take the poll\n",
    "names = ['sarah', 'edward', 'phil', 'faris', 'ibraheem']\n",
    "\n",
    "\n",
    "# Existing dictionary of favorite languages\n",
    "favorite_languages = {\n",
    " 'jen': 'python',\n",
    " 'sarah': 'c',\n",
    " 'edward': 'ruby',\n",
    " 'phil': 'python',\n",
    " }\n",
    "\n",
    "#loop through the list of people\n",
    "for name in names:\n",
    "    if name in favorite_languages:\n",
    "        print(f\"Thank you, {name} for responding to the poll\")\n",
    "else:\n",
    "    print(f\"{name}, we invite you to take the language test\")"
   ]
  },
  {
   "cell_type": "code",
   "execution_count": null,
   "metadata": {},
   "outputs": [],
   "source": [
    "#list of people\n",
    "list_people = {\n",
    "'akbolaji':{\n",
    "    'First':'Bolaji',\n",
    "    'Last': 'Akintunde',\n",
    "    'Location':'Nigeria',\n",
    "    },  \n",
    "\n",
    "'chikuewan':{\n",
    "    'First':'Christerbel',\n",
    "    'Last':'Ikuewan',\n",
    "    'Location':'Harrogate'\n",
    "    }\n",
    "}\n",
    "#printing people info\n",
    "for people, info in list_people.items():\n",
    "    print(f\"people:  {people}\")\n",
    "    full_name= info['First'] + \"\" + info['Last']\n",
    "    Location = info['Location']\n",
    "    print(f\"\\tFull name: {full_name.title()}\")\n",
    "    print(f\"\\tLocation: {Location.title()}\")\n"
   ]
  },
  {
   "cell_type": "code",
   "execution_count": null,
   "metadata": {},
   "outputs": [],
   "source": [
    "favorite_pets = {\n",
    "  \n",
    "      'petmussy':{\n",
    "        'pet':'Dog'\n",
    "        'Owner':'Allen',\n",
    "        }\n",
    "      'petkay':{\n",
    "        'pet':'cat',\n",
    "        'Owner': 'Jeremiah',\n",
    "        }\n",
    "      'petkay':{\n",
    "        'pet':'rabbit',\n",
    "        'Owner':'Joseph'\n",
    "      }\n",
    "}"
   ]
  }
 ],
 "metadata": {
  "kernelspec": {
   "display_name": "Python 3",
   "language": "python",
   "name": "python3"
  },
  "language_info": {
   "codemirror_mode": {
    "name": "ipython",
    "version": 3
   },
   "file_extension": ".py",
   "mimetype": "text/x-python",
   "name": "python",
   "nbconvert_exporter": "python",
   "pygments_lexer": "ipython3",
   "version": "3.12.0"
  }
 },
 "nbformat": 4,
 "nbformat_minor": 2
}
